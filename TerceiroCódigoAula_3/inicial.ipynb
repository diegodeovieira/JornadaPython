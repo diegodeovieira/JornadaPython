{
 "cells": [
  {
   "cell_type": "markdown",
   "metadata": {},
   "source": [
    "# Projeto Python IA: Inteligência Artificial e Previsões\n",
    "\n",
    "### Case: Score de Crédito dos Clientes\n",
    "\n",
    "Você foi contratado por um banco para conseguir definir o score de crédito dos clientes. Você precisa analisar todos os clientes do banco e, com base nessa análise, criar um modelo que consiga ler as informações do cliente e dizer automaticamente o score de crédito dele: Ruim, Ok, Bom\n",
    "\n",
    "Arquivos da aula: https://drive.google.com/drive/folders/1FbDqVq4XLvU85VBlVIMJ73p9oOu6u2-J?usp=drive_link"
   ]
  },
  {
   "cell_type": "code",
   "execution_count": null,
   "metadata": {},
   "outputs": [],
   "source": [
    "# Passa a passo do projeto\n",
    "# Passo 0 -> Entenda o desafio da empresa\n",
    "# Passo 1 -> Importa a base de dados \n",
    "# Passo 2 -> Prepara a base de dados para ainteligência artificias\n",
    "# Passo 3 -> Criar um modelo de IA -> Score - credito: Bom, Ok, Ruim\n",
    "# Passo 4 -> Escolher o melhor modelo\n",
    "# Passo 5 -> Usa nossa IA para fazer novas Previsões\n",
    "\n",
    "# Fazer a instalação do pacote pandas e scikit-learn"
   ]
  },
  {
   "cell_type": "code",
   "execution_count": null,
   "metadata": {},
   "outputs": [],
   "source": [
    "# Passo 0 -> Entenda o desafio da empresa\n",
    "# Passo 1 -> Importa a base de dados \n",
    "\n",
    "import pandas as pd\n",
    "\n",
    "tabela = pd.read_csv(\"clientes.csv\")\n",
    "\n",
    "display(tabela)\n",
    "display( tabela. info())\n",
    "\n",
    "# Good (Bom), Standerd (ok), Poor (Ruim)"
   ]
  },
  {
   "cell_type": "code",
   "execution_count": null,
   "metadata": {},
   "outputs": [],
   "source": [
    "# Passo 2 -> Prepara a base de dados para ainteligência artificias\n",
    "\n",
    "# int -> Número inteiro\n",
    "# float -> Número com casa decimal\n",
    "# object -> Texto\n",
    "\n",
    "# Label Encoder -> Profissão, Mix_Credito, Comportamento_pagamento \n",
    "# Em a maioria que na coluna estiver com alguma informação como texto tera que ser passada como número, exemplo\n",
    "\n",
    "# profissão \n",
    "# engenheiro -> 2\n",
    "# ciêntista -> 3\n",
    "# advogado -> 4\n",
    "# artista -> 5\n",
    "# mecanico -> 6\n",
    "\n",
    "# Não importa qual número esteja, mas que seja diferente para cada Profissão \n",
    "\n",
    "\n",
    "# importa  o label encoder\n",
    "from sklearn.preprocessing import LabelEncoder\n",
    "\n",
    "# Criar o label encoder\n",
    "codificador = LabelEncoder()\n",
    "\n",
    "# Aplicar o label encoder na coluna \n",
    "tabela[\"profissao\"] = codificador.fit_transform(tabela[\"profissão\"])\n",
    "\n",
    "# mix-credito\n",
    "tabela[\"mix-credito\"] = codificador.fit_transform(tabela[\"mix-credito\"])\n",
    "\n",
    "# comportamento_pagamento\n",
    "tabela[\"comportamento_pagamento\"] = codificador.fit_transform(tabela[\"comportamento_pagamento\"])\n",
    "\n",
    "display( tabela. info())"
   ]
  },
  {
   "cell_type": "code",
   "execution_count": null,
   "metadata": {},
   "outputs": [],
   "source": [
    "# 2 divisão \n",
    "\n",
    "# quem eu quero prever, quem eu quero usar para fazer a previsão.\n",
    "\n",
    "y = tabela[\"score_credito\"]\n",
    "x = tabela.drop(columns=[\"score_credito\", \"id_cliente\"])\n",
    "\n",
    "# treino e Teste\n",
    "\n",
    "from sklearn.model_selection import train_test_split\n",
    "\n",
    "x_treino, x_teste, y_treino, y_teste = train_test_split(x, y test_size=0.3)"
   ]
  },
  {
   "cell_type": "code",
   "execution_count": null,
   "metadata": {},
   "outputs": [],
   "source": [
    "# Cria a inteligência artificial\n",
    "# Árvore de decisão -> Random Forest\n",
    "# KNN -> Vizinhos proximos (Nearest Neighbors)\n",
    "\n",
    "# Importa a inteligencia artificial\n",
    "from sklearn.ensemble import RandomForestClassifier\n",
    "from sklearn.neighbors import KNeighborsClassifier\n",
    "\n",
    "# Criar a inteligência Artificial\n",
    "modelo_arvoredecisao = RandomForestClassifier()\n",
    "modelo_knn = KNeighborsClassifier()\n",
    "\n",
    "# Treinar a inteligência artificial\n",
    "modelo_arvoredecisao.fit(x_treino, y_treino)\n",
    "modelo_knn.fit(x_treino, y_treino)"
   ]
  },
  {
   "cell_type": "code",
   "execution_count": null,
   "metadata": {},
   "outputs": [],
   "source": [
    "# Testar o Modelos \n",
    "previsao_arvoredecisao = modelo_arvoredecisao.predict(x_teste)\n",
    "previsao_knn = modelo_knn.predict(x_teste)\n",
    "\n",
    "from sklearn.metrics import accuracy_score\n",
    "\n",
    "print(accuracy_score(y_teste, previsao_arvoredecisao))\n",
    "print(accuracy_score(y_teste, previsao_knn))"
   ]
  },
  {
   "cell_type": "code",
   "execution_count": null,
   "metadata": {},
   "outputs": [],
   "source": [
    "# O melhor modelo é o de arvore de decisão\n",
    "\n",
    "tabela_nova = pd.read_csv(\"novos_clientes.csv\")\n",
    "display(tabela_nova)\n",
    "\n",
    "tabela_nova[\"profissao\"] = codificador.fit_transform(tabela_nova[\"profissao\"])\n",
    "tabela_nova[\"mix_credito\"] = codificador.fit_transform(tabela_nova[\"mix_credito\"])\n",
    "tabela_nova[\"comportamento_pagamento\"] = codificador.fit_transform(tabela_nova[\"comportamento_pagamento\"])\n",
    "\n",
    "previsoes = modelo_arvoredecisao.predict(tabela_nova)\n",
    "display(previsoes)\n"
   ]
  }
 ],
 "metadata": {
  "kernelspec": {
   "display_name": "Python 3",
   "language": "python",
   "name": "python3"
  },
  "language_info": {
   "codemirror_mode": {
    "name": "ipython",
    "version": 3
   },
   "file_extension": ".py",
   "mimetype": "text/x-python",
   "name": "python",
   "nbconvert_exporter": "python",
   "pygments_lexer": "ipython3",
   "version": "3.11.4"
  },
  "orig_nbformat": 4
 },
 "nbformat": 4,
 "nbformat_minor": 2
}
